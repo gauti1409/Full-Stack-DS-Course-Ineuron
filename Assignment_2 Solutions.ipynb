{
 "cells": [
  {
   "cell_type": "markdown",
   "metadata": {},
   "source": [
    "## Assignment_2 Solutions"
   ]
  },
  {
   "cell_type": "markdown",
   "metadata": {},
   "source": [
    "1. What are the two values of the Boolean data type? How do you write them?"
   ]
  },
  {
   "cell_type": "markdown",
   "metadata": {},
   "source": [
    "Solution :\n",
    "\n",
    "The two Boolean data type values are: True and False. T and F letters are written in capital whereas other letters are written in lowercase for True and False values respectively."
   ]
  },
  {
   "cell_type": "markdown",
   "metadata": {},
   "source": [
    "2. What are the three Boolean operators?"
   ]
  },
  {
   "cell_type": "markdown",
   "metadata": {},
   "source": [
    "Solution :\n",
    "\n",
    "Three different types of boolean operators are: AND, OR, NOT operators. "
   ]
  },
  {
   "cell_type": "markdown",
   "metadata": {},
   "source": [
    "3. Write out the truth tables of each Boolean operator (that is, every possible combination of Boolean values for the operator and what they evaluate to)."
   ]
  },
  {
   "cell_type": "markdown",
   "metadata": {},
   "source": [
    "Solution :\n",
    "    \n",
    "a) AND Operator:              A B  Result\n",
    "\n",
    "                    0 0    0\n",
    "                    \n",
    "                    0 1    0\n",
    "                    \n",
    "                    1 0    0\n",
    "                    \n",
    "                    1 1    1\n",
    "                    \n",
    "\n",
    "b) OR Operator:              A B  Result\n",
    "\n",
    "                    0 0    0\n",
    "                    \n",
    "                    0 1    1\n",
    "                    \n",
    "                    1 0    1\n",
    "                    \n",
    "                    1 1    1\n",
    "                    \n",
    "                    \n",
    "c) NOT Operator:            A    Result\n",
    "\n",
    "                    0      1\n",
    "                    \n",
    "                    1      0\n",
    "                    \n",
    "                "
   ]
  },
  {
   "cell_type": "markdown",
   "metadata": {},
   "source": [
    "4. What do the following expressions evaluate to?\n",
    "\n",
    "(5 > 4) and (3 == 5)\n",
    "\n",
    "not (5 > 4)\n",
    "\n",
    "(5 > 4) or (3 == 5)\n",
    "\n",
    "not ((5 > 4) or (3 == 5))\n",
    "\n",
    "(True and True) and (True == False)\n",
    "\n",
    "(not False) or (not True)"
   ]
  },
  {
   "cell_type": "markdown",
   "metadata": {},
   "source": [
    "Solution :\n",
    "\n",
    "(5 > 4) and (3 == 5) : False\n",
    "\n",
    "not (5 > 4): False\n",
    "    \n",
    "(5 > 4) or (3 == 5): True\n",
    "    \n",
    "not ((5 > 4) or (3 == 5)): False\n",
    "\n",
    "(True and True) and (True == False): False\n",
    "    \n",
    "(not False) or (not True): True"
   ]
  },
  {
   "cell_type": "markdown",
   "metadata": {},
   "source": [
    "5. What are the six comparison operators?"
   ]
  },
  {
   "cell_type": "markdown",
   "metadata": {},
   "source": [
    "Solution :\n",
    "\n",
    "Six comparison operators are:\n",
    "\n",
    "1. Equal to(==)\n",
    "2. Not equal to(!=)\n",
    "3. Greater than(>)\n",
    "4. Greater than equal to(>=)\n",
    "5. Less than(<)\n",
    "6. Less than equal to(<=)"
   ]
  },
  {
   "cell_type": "markdown",
   "metadata": {},
   "source": [
    "6. What is the difference between the equal to operator and the assignment operator?"
   ]
  },
  {
   "cell_type": "markdown",
   "metadata": {},
   "source": [
    "Solution :\n",
    "\n",
    "Equal to is denoted as (==) to signify or check whether the two values are equal or not.\n",
    "\n",
    "Assignment operators can be denoted with a single equal sign(=) like Increment Assignment(+=), Simple Assignment(=) etc."
   ]
  },
  {
   "cell_type": "markdown",
   "metadata": {},
   "source": [
    "7. Explain what a condition is and where you would use one."
   ]
  },
  {
   "cell_type": "markdown",
   "metadata": {},
   "source": [
    "Solution :\n",
    "    \n",
    "A statement which controls the flow of execution of code depending on some decision-making expression is known as a condition. \n",
    "\n",
    "Conditional statements are used when we need to perform any sort of decision-making which makes sure that the upcoming block of code will execute if the given condition is true or false, depending upon the user's logic."
   ]
  },
  {
   "cell_type": "markdown",
   "metadata": {},
   "source": [
    "8. Identify the three blocks in this code:\n",
    "\n",
    "spam = 0\n",
    "\n",
    "if spam == 10:\n",
    "\n",
    "    print('eggs')\n",
    "    \n",
    "if spam > 5:\n",
    "\n",
    "    print('bacon')\n",
    "    \n",
    "else:\n",
    "\n",
    "    print('ham')\n",
    "    \n",
    "    print('spam')\n",
    "    \n",
    "    print('spam')\n",
    "    \n"
   ]
  },
  {
   "cell_type": "markdown",
   "metadata": {},
   "source": [
    "Solution :\n",
    "\n",
    "The first block is the if block in the code, which will print the statement \"eggs\", if the condition spam==10 is True.\n",
    "\n",
    "The second block is the if block in the code, which will print the statement \"bacon\", if the condition spam>10 is True.\n",
    "\n",
    "The third block is the else block in the code, which will print the statements \"ham\", \"spam\", \"spam\", if both the if the conditions are False.\n",
    "\n",
    "In the actual code given in the question, else block will be executed as spam is assigned the value of 0 which does not satisfy the conditions given in both the if statements present, and the output \"ham\",\"spam\",\"spam\" will be printed."
   ]
  },
  {
   "cell_type": "markdown",
   "metadata": {},
   "source": [
    "9. Write code that prints Hello if 1 is stored in spam, prints Howdy if 2 is stored in spam, and prints Greetings! if anything else is stored in spam."
   ]
  },
  {
   "cell_type": "code",
   "execution_count": 2,
   "metadata": {},
   "outputs": [
    {
     "name": "stdout",
     "output_type": "stream",
     "text": [
      "Enter the value of spam: 23\n",
      "Greetings! \n"
     ]
    }
   ],
   "source": [
    "spam = int(input(\"Enter the value of spam: \"))\n",
    "\n",
    "if spam == 1:\n",
    "    print(\"Hello\")\n",
    "elif spam == 2:\n",
    "    print(\"Howdy\")\n",
    "else:\n",
    "    print(\"Greetings! \")"
   ]
  },
  {
   "cell_type": "markdown",
   "metadata": {},
   "source": [
    "10. What keys can you press if your program is stuck in an infinite loop?"
   ]
  },
  {
   "cell_type": "markdown",
   "metadata": {},
   "source": [
    "Solution : We can press Ctrl + C to get out of that programme which is stuck because of endless loop."
   ]
  },
  {
   "cell_type": "markdown",
   "metadata": {},
   "source": [
    "11. What is the difference between break and continue?"
   ]
  },
  {
   "cell_type": "markdown",
   "metadata": {},
   "source": [
    "Solution : \n",
    "\n",
    "The break statement is used for the immediate termination of the loop whereas the continue statement is used when we want to jump to the next iteration of the loop while skipping the current one, using a certain condition or just by placing the continue statement in the loop body, depending on user's requirement."
   ]
  },
  {
   "cell_type": "markdown",
   "metadata": {},
   "source": [
    "12. What is the difference between range(10), range(0, 10), and range(0, 10, 1) in a for loop?"
   ]
  },
  {
   "cell_type": "markdown",
   "metadata": {},
   "source": [
    "Solution:\n",
    "\n",
    "All the three range functions will produce the same output when a for loop is being applied to it i.e. it will print out a range of digits from 0-9. There is just the difference of representation between these 3 range functions.\n",
    "\n",
    "In range(10), the stop number is provided and by default the range of the digits will start from 0 and will print till 9 excluding the stop digit i.e. 10\n",
    "\n",
    "In range(0,10), both start and stop points are provided where the digits are printed form the mentioned start point and print till 9 again excluding the stop poit i.e. 10.\n",
    "\n",
    "In range(0,10,0) all the three parameters, start and stop points as well as step size is also present. This respresentation of range function will give the same ouptut as described in the two points above making sure that the step size between the digits is of difference 1 only."
   ]
  },
  {
   "cell_type": "markdown",
   "metadata": {},
   "source": [
    "13. Write a short program that prints the numbers 1 to 10 using a for loop. Then write an equivalent program that prints the numbers 1 to 10 using a while loop."
   ]
  },
  {
   "cell_type": "code",
   "execution_count": 21,
   "metadata": {},
   "outputs": [
    {
     "name": "stdout",
     "output_type": "stream",
     "text": [
      "1\n",
      "2\n",
      "3\n",
      "4\n",
      "5\n",
      "6\n",
      "7\n",
      "8\n",
      "9\n",
      "10\n"
     ]
    }
   ],
   "source": [
    "# Using a for loop:\n",
    "\n",
    "for i in range(1,11):\n",
    "    print(i)"
   ]
  },
  {
   "cell_type": "code",
   "execution_count": 24,
   "metadata": {},
   "outputs": [
    {
     "name": "stdout",
     "output_type": "stream",
     "text": [
      "1\n",
      "2\n",
      "3\n",
      "4\n",
      "5\n",
      "6\n",
      "7\n",
      "8\n",
      "9\n",
      "10\n"
     ]
    }
   ],
   "source": [
    "# Using a while loop:\n",
    "i=1\n",
    "while i in range(1,11):\n",
    "    print(i)\n",
    "    i=i+1"
   ]
  },
  {
   "cell_type": "markdown",
   "metadata": {},
   "source": [
    "14. If you had a function named bacon() inside a module named spam, how would you call it after importing spam?"
   ]
  },
  {
   "cell_type": "markdown",
   "metadata": {},
   "source": [
    "Solution: spam.bacon()"
   ]
  },
  {
   "cell_type": "code",
   "execution_count": null,
   "metadata": {},
   "outputs": [],
   "source": []
  }
 ],
 "metadata": {
  "kernelspec": {
   "display_name": "Python 3",
   "language": "python",
   "name": "python3"
  },
  "language_info": {
   "codemirror_mode": {
    "name": "ipython",
    "version": 3
   },
   "file_extension": ".py",
   "mimetype": "text/x-python",
   "name": "python",
   "nbconvert_exporter": "python",
   "pygments_lexer": "ipython3",
   "version": "3.8.5"
  }
 },
 "nbformat": 4,
 "nbformat_minor": 4
}
