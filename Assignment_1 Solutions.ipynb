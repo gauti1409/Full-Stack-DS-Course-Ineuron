{
 "cells": [
  {
   "cell_type": "markdown",
   "metadata": {},
   "source": [
    "# Assignment_1 Solutions "
   ]
  },
  {
   "cell_type": "markdown",
   "metadata": {},
   "source": [
    "1. Which of the following are operators, and which are values?\n",
    "*, \n",
    "'hello', \n",
    "87.8, \n",
    "-, \n",
    "/, \n",
    "+, \n",
    "6"
   ]
  },
  {
   "cell_type": "markdown",
   "metadata": {},
   "source": [
    "Solution : \n",
    "1. (*,-,/,+): These are arthmetic operators: multiplication, subtratcion, division and addition respectively.\n",
    "2. ('hello', 87.8, 6): These are values. First is a string value, second is a float value and third is an integer value. \n",
    "  "
   ]
  },
  {
   "cell_type": "markdown",
   "metadata": {},
   "source": [
    "2. Which of the following is a variable, and which is a string?\n",
    "spam 'spam'"
   ]
  },
  {
   "cell_type": "markdown",
   "metadata": {},
   "source": [
    "Solution : \n",
    "    \n",
    "spam: This is a variable declared in python in which any type of value can be stored.\n",
    "\n",
    "'spam': This is a string since spam here is enclosed within single quotes."
   ]
  },
  {
   "cell_type": "markdown",
   "metadata": {},
   "source": [
    "3. Name three data types."
   ]
  },
  {
   "cell_type": "markdown",
   "metadata": {},
   "source": [
    "Solution : \n",
    "\n",
    "The three data types are:\n",
    "\n",
    "1) Integer data type\n",
    "\n",
    "2) Float data type\n",
    "\n",
    "3) String data type."
   ]
  },
  {
   "cell_type": "markdown",
   "metadata": {},
   "source": [
    "4. What is an expression made up of? What do all expressions do?"
   ]
  },
  {
   "cell_type": "markdown",
   "metadata": {},
   "source": [
    "Solution :\n",
    "\n",
    "A sequence or a combination of operands and operators which gives a certain value after evaluation can be termed as an expression.\n",
    "\n",
    "An expression represents a function where the values are stored in the respective assigned variables and the output evaluated is the resulting value of that expression. "
   ]
  },
  {
   "cell_type": "markdown",
   "metadata": {},
   "source": [
    "5. This chapter introduced assignment statements, like spam = 10. What is the difference between an expression and a statement?"
   ]
  },
  {
   "cell_type": "markdown",
   "metadata": {},
   "source": [
    "Solution : \n",
    "\n",
    "The difference between statement and expression is that statement represent an action or command , for eg: Print statements. Statements do not return a value. \n",
    "\n",
    "On the other hand, an expression is a combination of operands and operators which provides a certain value after computation or evaluation.\n",
    "\n",
    "\n"
   ]
  },
  {
   "cell_type": "markdown",
   "metadata": {},
   "source": [
    "6. What does the variable bacon contain after the following code runs?\n",
    "\n",
    "bacon = 20\n",
    "\n",
    "bacon + 1"
   ]
  },
  {
   "cell_type": "markdown",
   "metadata": {},
   "source": [
    "Solution :\n",
    "The value of bacon remains 20, even if the expression (bacon+1) is executed since (bacon+1) is not assigned to bacon itself and hence the value which was assigned to variable bacon at first remains unchanged."
   ]
  },
  {
   "cell_type": "markdown",
   "metadata": {},
   "source": [
    "7. What should the following two expressions evaluate to?\n",
    "\n",
    "'spam' + 'spamspam'\n",
    "\n",
    "'spam' * 3"
   ]
  },
  {
   "cell_type": "markdown",
   "metadata": {},
   "source": [
    "Solution : \n",
    "1. 'spam' + 'spamspam' = 'spamspamspam'\n",
    "2. 'spam'*3 = 'spamspamspam'"
   ]
  },
  {
   "cell_type": "markdown",
   "metadata": {},
   "source": [
    "8. Why is eggs a valid variable name while 100 is invalid?"
   ]
  },
  {
   "cell_type": "markdown",
   "metadata": {},
   "source": [
    "Solution : \n",
    "There are some rules for defining a variable name in python:\n",
    "1. A variable can start only with either uppercase, lowercase letters or an underscore(_).\n",
    "2. It cannot start with any digit.\n",
    "3. Though the variable name can contain digits(0-9).\n",
    "4. A variable name can be of any length.\n",
    "\n",
    "And hence eggs is a true variable name but 100 is not."
   ]
  },
  {
   "cell_type": "markdown",
   "metadata": {},
   "source": [
    "9. What three functions can be used to get the integer, floating-point number, or string version of a value?"
   ]
  },
  {
   "cell_type": "markdown",
   "metadata": {},
   "source": [
    "Solution :\n",
    "1. int() function can be used to convert any value to an integer.\n",
    "2. str() function can be used to convert any value to an string.\n",
    "3. float() function can be used to convert any value to a floating value."
   ]
  },
  {
   "cell_type": "markdown",
   "metadata": {},
   "source": [
    "10. Why does this expression cause an error? How can you fix it?\n",
    "\n",
    "'I have eaten ' + 99 + ' burritos.'"
   ]
  },
  {
   "cell_type": "markdown",
   "metadata": {},
   "source": [
    "Solution : \n",
    "\n",
    "The given expression contains a numerical value with string values which cannot be concatenated with those string values. To solve this error, we have to convert 99 to a string value and then concatenate it in the above expression.\n",
    "For e.g: 'I have eaten ' + str(99) + ' burritos.'"
   ]
  },
  {
   "cell_type": "code",
   "execution_count": null,
   "metadata": {},
   "outputs": [],
   "source": []
  }
 ],
 "metadata": {
  "kernelspec": {
   "display_name": "Python 3",
   "language": "python",
   "name": "python3"
  },
  "language_info": {
   "codemirror_mode": {
    "name": "ipython",
    "version": 3
   },
   "file_extension": ".py",
   "mimetype": "text/x-python",
   "name": "python",
   "nbconvert_exporter": "python",
   "pygments_lexer": "ipython3",
   "version": "3.8.5"
  }
 },
 "nbformat": 4,
 "nbformat_minor": 4
}
